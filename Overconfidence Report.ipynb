{
 "cells": [
  {
   "cell_type": "markdown",
   "metadata": {},
   "source": [
    "# Overconfidence Analysis"
   ]
  },
  {
   "cell_type": "markdown",
   "metadata": {},
   "source": [
    "<a id=\"Toc\"></a>"
   ]
  },
  {
   "cell_type": "markdown",
   "metadata": {},
   "source": [
    "## Table of Contents\n",
    "\n",
    "[Introduction](#Introduction)"
   ]
  },
  {
   "cell_type": "markdown",
   "metadata": {},
   "source": [
    "[Data Source](#Data)"
   ]
  },
  {
   "cell_type": "markdown",
   "metadata": {},
   "source": [
    "[Section 1](#Section_1)"
   ]
  },
  {
   "cell_type": "markdown",
   "metadata": {},
   "source": [
    "[Section 2](#Section_2)"
   ]
  },
  {
   "cell_type": "markdown",
   "metadata": {},
   "source": [
    "[Section 3](#Section_3)"
   ]
  },
  {
   "cell_type": "markdown",
   "metadata": {},
   "source": [
    "<a id=\"Introduction\"></a>"
   ]
  },
  {
   "cell_type": "markdown",
   "metadata": {},
   "source": [
    "## Introduction\n",
    "\n",
    "[Back to top](#Toc)"
   ]
  },
  {
   "cell_type": "markdown",
   "metadata": {},
   "source": [
    "This analysis is based on the <a href=\"https://www.researchgate.net/publication/279910303_Apparent_Overconfidence\">Apparent Overconfidence</a> paper, written by Jean-Pierre Benoît and Juan Dubra. In this report, they state:\n",
    "> \"It is common for a majority of people to rank themselves as better than average on simple tasks and worse than average on difﬁcult tasks. The literature takes for granted that this apparent misconﬁdence is problematic. We argue, however, that this behavior is consistent with purely rational Bayesian updaters.\"\n",
    "\n",
    "In order to test this hypothesis, I recreated a simulation in which an entrepreneur of a certain skill type (high, medium, or low) updates their self-perceived skill type over time. At birth, each entrepreneur draws a skill type from a uniform distribution, for a total of 300,000 entrepreneurs (100,000 each skill type). The first simulation assumes an entrepreneur begins learning about his/her skill at the age of 25, and stops updating their belief at the age of 65.\n",
    "\n",
    "The formula for which an entrepreneur updates their perceived skill type is as follows:"
   ]
  },
  {
   "cell_type": "markdown",
   "metadata": {},
   "source": [
    "<img src=\"images/eqn.png\"/>"
   ]
  },
  {
   "cell_type": "markdown",
   "metadata": {},
   "source": [
    "Variable Description:\n",
    "\n",
    "* A, B, and C represent self-perceived probabilities in the previous year (high, medium, and low respectively)\n",
    "\n",
    "* p_high, p_medium, and p_low represent probablities of failure for each skill type\n",
    "\n",
    "* f represents a failure (0: no failure, 1: failure)"
   ]
  },
  {
   "cell_type": "markdown",
   "metadata": {},
   "source": [
    "The first year, each entrepreneur rates his/her probability of being any skill type as 1/3, as they have no prior experience to update from. Every year thereafter, the entrepreneurs will update their self-perceived skill type according to whether they have experienced a failure or not. A failure is determined by a comparison between a random number (random.uniform(0, 1)) and the actual probability of failure based on skill type. \n",
    "\n",
    "An entrepreneur is assumed to \"start\" a small and mature business at the age of 25 and following any failures. Here, I define small and mature businesses as those with less than 500 employees and at least 5 years of age."
   ]
  },
  {
   "cell_type": "markdown",
   "metadata": {},
   "source": [
    "<a id=\"Data\"></a>"
   ]
  },
  {
   "cell_type": "markdown",
   "metadata": {},
   "source": [
    "## Data Source\n",
    "\n",
    "[Back to top](#Toc)"
   ]
  },
  {
   "cell_type": "markdown",
   "metadata": {},
   "source": [
    "<img src=\"images/BLS_stats.PNG\"/>"
   ]
  },
  {
   "cell_type": "markdown",
   "metadata": {},
   "source": [
    "To obtain empirical evidence on small and mature businesses, I used the U.S. Bureau of Labor Statistics. I\n",
    "took the data gathered beginning in March 1994 and averaged the survival rate of previous year survivors\n",
    "beginning in March 2000.\n",
    "\n",
    "From this I obtained an average survival rate of 94.69%, which translates to a 5.31% average rate of\n",
    "failure. This will be the probability of failure for the medium skill type, while the high and low types will have a probability 50% lower and higher, respectively. Therefore, my probabilities of failure for the three types of entrepreneurs are as follows:\n",
    "**_High Skill_** = 0.0266, **_Medium Skill_** = 0.0531, **_Low Skill_** = 0.0797."
   ]
  },
  {
   "cell_type": "markdown",
   "metadata": {},
   "source": [
    "<a id=\"Section_1\"></a>"
   ]
  },
  {
   "cell_type": "markdown",
   "metadata": {},
   "source": [
    "## Section 1\n",
    "\n",
    "Limited & Unlimited Failures (40 Years)\n",
    "\n",
    "[Back to top](#Toc)"
   ]
  },
  {
   "cell_type": "markdown",
   "metadata": {},
   "source": [
    "As discussed in the introduction, the simulation is comprised of two main parts: a limited number of failures, and an unlimited number of failures. When entrepreneurs are only allowed a single failure, they can no longer update their self-perceived skill if they fail more than one time. For those allowed an unlimited number of failures, they continue \"starting\" new businesses and updating their self-perceived skill type. After 40 years, the distribution for each skill type is as follows:"
   ]
  },
  {
   "cell_type": "markdown",
   "metadata": {},
   "source": [
    "<img src=\"images/Perceived_Skill_Group_Lim_v_Unlim.png\" />"
   ]
  },
  {
   "cell_type": "markdown",
   "metadata": {},
   "source": [
    "Here are two examples of the difference in perceived skill from those who continue to update against those who do not. These examples use the same sequences of random numbers, therefore both sides would appear identical if it were not for the limited number of failures."
   ]
  },
  {
   "cell_type": "markdown",
   "metadata": {},
   "source": [
    "<img src=\"images/Perceived_Skill_Set_Seed_1.png\"/>"
   ]
  },
  {
   "cell_type": "markdown",
   "metadata": {},
   "source": [
    "<img src=\"images/Perceived_Skill_Set_Seed_2.png\"/>"
   ]
  },
  {
   "cell_type": "markdown",
   "metadata": {},
   "source": [
    "<a id=\"Section_2\"></a>"
   ]
  },
  {
   "cell_type": "markdown",
   "metadata": {},
   "source": [
    "## Section 2\n",
    "\n",
    "[Back to top](#Toc)"
   ]
  },
  {
   "cell_type": "markdown",
   "metadata": {},
   "source": [
    "<img src=\"images/Perceived_Skill_Group_Non_Entre.png\"/>"
   ]
  },
  {
   "cell_type": "markdown",
   "metadata": {},
   "source": [
    "These plots include the non-entrepeneur subpopulation at the age of 65. This means that they have failed at least 2 times in total, and stopped updating their perceived probability. For those that aren't within this subpopulation, they rate themselves as a high skill entrepreneur."
   ]
  },
  {
   "cell_type": "markdown",
   "metadata": {},
   "source": [
    "<a id=\"Section_3\"></a>"
   ]
  },
  {
   "cell_type": "markdown",
   "metadata": {},
   "source": [
    "## Section 3\n",
    "\n",
    "[Back to top](#Toc)"
   ]
  },
  {
   "cell_type": "markdown",
   "metadata": {},
   "source": [
    "<img src=\"images/Perceived_Skill_Group_10_Year_Intervals.png\"/>"
   ]
  },
  {
   "cell_type": "code",
   "execution_count": null,
   "metadata": {},
   "outputs": [],
   "source": []
  }
 ],
 "metadata": {
  "kernelspec": {
   "display_name": "Python 3",
   "language": "python",
   "name": "python3"
  },
  "language_info": {
   "codemirror_mode": {
    "name": "ipython",
    "version": 3
   },
   "file_extension": ".py",
   "mimetype": "text/x-python",
   "name": "python",
   "nbconvert_exporter": "python",
   "pygments_lexer": "ipython3",
   "version": "3.8.5"
  }
 },
 "nbformat": 4,
 "nbformat_minor": 4
}
